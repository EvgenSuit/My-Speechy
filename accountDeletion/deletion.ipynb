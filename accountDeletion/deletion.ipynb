{
 "cells": [
  {
   "cell_type": "code",
   "execution_count": 1,
   "metadata": {},
   "outputs": [
    {
     "name": "stderr",
     "output_type": "stream",
     "text": [
      "c:\\Programming\\Software\\Python\\Lib\\site-packages\\requests\\__init__.py:102: RequestsDependencyWarning: urllib3 (1.26.16) or chardet (5.2.0)/charset_normalizer (2.0.12) doesn't match a supported version!\n",
      "  warnings.warn(\"urllib3 ({}) or chardet ({})/charset_normalizer ({}) doesn't match a supported \"\n"
     ]
    }
   ],
   "source": [
    "import firebase_admin\n",
    "from firebase_admin import credentials\n",
    "from firebase_admin import db\n",
    "from google.cloud import storage\n",
    "from firebase_admin import auth\n",
    "from firebase_admin import firestore"
   ]
  },
  {
   "cell_type": "code",
   "execution_count": 2,
   "metadata": {},
   "outputs": [],
   "source": [
    "user_email = \"mokiczena@gmail.com\"\n",
    "\n",
    "json_name = 'my-speechy-firebase-adminsdk-g7v3g-48589351f8.json'\n",
    "cred = credentials.Certificate(json_name)\n",
    "\n",
    "default_app = firebase_admin.initialize_app(cred, {\n",
    "    'databaseURL': 'https://my-speechy-default-rtdb.europe-west1.firebasedatabase.app/'\n",
    "})"
   ]
  },
  {
   "cell_type": "code",
   "execution_count": 46,
   "metadata": {},
   "outputs": [],
   "source": [
    "storage_client = storage.Client.from_service_account_json(json_name)\n",
    "firestore_client = firestore.client()\n",
    "bucket = storage_client.get_bucket('my-speechy.appspot.com')\n",
    "user = auth.get_user_by_email(user_email)\n",
    "user_id = user.uid"
   ]
  },
  {
   "cell_type": "code",
   "execution_count": 35,
   "metadata": {},
   "outputs": [],
   "source": [
    "def remove_profile_pics():\n",
    "    profile_pic_exists = db.reference(f'users/{user_id}/profilePicUpdated').get()\n",
    "    if (profile_pic_exists is not None):\n",
    "        for quality in ('normalQuality', 'lowQuality'):\n",
    "            try:\n",
    "                bucket.blob(f'profilePics/{user_id}/{quality}/{user_id}.jpg').delete()\n",
    "            except Exception as e:\n",
    "                print(e)"
   ]
  },
  {
   "cell_type": "code",
   "execution_count": 36,
   "metadata": {},
   "outputs": [],
   "source": [
    "def get_other_user_id(chat_id):\n",
    "    return next(split for split in chat_id.split('_') if split != user_id)\n",
    "\n",
    "def leave_private_chat_use_case(chat_id):\n",
    "    other_user_id = get_other_user_id(chat_id)\n",
    "    other_user_chat = db.reference(f'users/{other_user_id}/private_chats/{chat_id}').get()\n",
    "    if (other_user_chat is None):\n",
    "        db.reference(f'messages/{chat_id}').delete()\n",
    "    db.reference(f'users/{user_id}/private_chats/{chat_id}').delete()\n",
    "    db.reference(f'private_chats/{user_id}/{chat_id}').delete()\n",
    "\n",
    "def check_if_is_admin_use_case(chat_id):\n",
    "    return db.reference(f'admins/{chat_id}').get() == user_id\n",
    "\n",
    "def decrement_member_count_use_case(chat_id, remove):\n",
    "    ref = db.reference(f'member_count/{chat_id}')\n",
    "    member_count = ref.get()\n",
    "    if (member_count is None): return\n",
    "    if (member_count - 1 <= 0 or remove): ref.delete()\n",
    "    else: ref.set(member_count-1)\n",
    "\n",
    "def delete_public_chat_use_case(chat_id):\n",
    "    db.reference(f'messages/{chat_id}').delete()\n",
    "    decrement_member_count_use_case(chat_id, True)\n",
    "    db.reference(f'public_chats/{chat_id}').delete()\n",
    "    db.reference(f'members/{chat_id}').delete()\n",
    "    db.reference(f'admins/{chat_id}').delete()\n",
    "\n",
    "def leave_public_chat_use_case(chat_id, revoke):\n",
    "    if (revoke):\n",
    "        decrement_member_count_use_case(chat_id, False)\n",
    "        db.reference(f'members/{chat_id}/{user_id}').delete()\n",
    "    db.reference(f'users/{user_id}/public_chats/{chat_id}').delete()\n",
    "\n",
    "\n",
    "def revoke_membership():\n",
    "    user_path = f'users/{user_id}'\n",
    "    private_chats = db.reference(f'{user_path}/private_chats').get()\n",
    "    if (private_chats is not None):\n",
    "        for private_chat in private_chats:\n",
    "            leave_private_chat_use_case(private_chat)\n",
    "    public_chats = db.reference(f'{user_path}/public_chats').get()\n",
    "    if (public_chats is not None):\n",
    "        for public_chat in public_chats:\n",
    "            isAdmin = check_if_is_admin_use_case(public_chat)\n",
    "            if (isAdmin): delete_public_chat_use_case(public_chat)\n",
    "            leave_public_chat_use_case(public_chat, not isAdmin)"
   ]
  },
  {
   "cell_type": "code",
   "execution_count": 37,
   "metadata": {},
   "outputs": [],
   "source": [
    "def delete_firestore_data():\n",
    "    user_ref = firestore_client.collection('users').document(user_id)\n",
    "    for coll in ('lessons', 'meditation', 'thoughtTracks'):\n",
    "        items_ref = user_ref.collection(coll)\n",
    "        docs = items_ref.get()\n",
    "        if docs is not None:\n",
    "            for doc in docs:\n",
    "                items_ref.document(doc.id).delete()"
   ]
  },
  {
   "cell_type": "code",
   "execution_count": 38,
   "metadata": {},
   "outputs": [],
   "source": [
    "def delete_rdb_user():\n",
    "    db.reference(f'users/{user_id}').delete()"
   ]
  },
  {
   "cell_type": "code",
   "execution_count": 39,
   "metadata": {},
   "outputs": [],
   "source": [
    "def delete_user():\n",
    "    auth.delete_user(user_id)"
   ]
  },
  {
   "cell_type": "code",
   "execution_count": 44,
   "metadata": {},
   "outputs": [],
   "source": [
    "def deletion_service():\n",
    "    remove_profile_pics()\n",
    "    revoke_membership()\n",
    "    delete_firestore_data()\n",
    "    delete_rdb_user()\n",
    "    delete_user()"
   ]
  },
  {
   "cell_type": "code",
   "execution_count": 47,
   "metadata": {},
   "outputs": [],
   "source": [
    "deletion_service()"
   ]
  },
  {
   "cell_type": "code",
   "execution_count": null,
   "metadata": {},
   "outputs": [],
   "source": []
  }
 ],
 "metadata": {
  "kernelspec": {
   "display_name": "Python 3",
   "language": "python",
   "name": "python3"
  },
  "language_info": {
   "codemirror_mode": {
    "name": "ipython",
    "version": 3
   },
   "file_extension": ".py",
   "mimetype": "text/x-python",
   "name": "python",
   "nbconvert_exporter": "python",
   "pygments_lexer": "ipython3",
   "version": "3.11.5"
  }
 },
 "nbformat": 4,
 "nbformat_minor": 2
}
